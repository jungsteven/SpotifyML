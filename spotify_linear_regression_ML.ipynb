{
 "cells": [
  {
   "cell_type": "code",
   "execution_count": 160,
   "metadata": {},
   "outputs": [],
   "source": [
    "import pandas as pd\n",
    "import numpy as np\n",
    "import matplotlib.pyplot as plt"
   ]
  },
  {
   "cell_type": "code",
   "execution_count": 161,
   "metadata": {},
   "outputs": [
    {
     "data": {
      "text/html": [
       "<div>\n",
       "<style scoped>\n",
       "    .dataframe tbody tr th:only-of-type {\n",
       "        vertical-align: middle;\n",
       "    }\n",
       "\n",
       "    .dataframe tbody tr th {\n",
       "        vertical-align: top;\n",
       "    }\n",
       "\n",
       "    .dataframe thead th {\n",
       "        text-align: right;\n",
       "    }\n",
       "</style>\n",
       "<table border=\"1\" class=\"dataframe\">\n",
       "  <thead>\n",
       "    <tr style=\"text-align: right;\">\n",
       "      <th></th>\n",
       "      <th>row</th>\n",
       "      <th>id</th>\n",
       "      <th>track</th>\n",
       "      <th>acousticness</th>\n",
       "      <th>danceability</th>\n",
       "      <th>duration_ms</th>\n",
       "      <th>energy</th>\n",
       "      <th>instrumentalness</th>\n",
       "      <th>key</th>\n",
       "      <th>liveness</th>\n",
       "      <th>loudness</th>\n",
       "      <th>mode</th>\n",
       "      <th>speechiness</th>\n",
       "      <th>tempo</th>\n",
       "      <th>time_signature</th>\n",
       "      <th>valence</th>\n",
       "      <th>track_href</th>\n",
       "    </tr>\n",
       "  </thead>\n",
       "  <tbody>\n",
       "    <tr>\n",
       "      <th>0</th>\n",
       "      <td>0</td>\n",
       "      <td>6e40mgJiCid5HRAGrbpGA6</td>\n",
       "      <td>I Want It That Way</td>\n",
       "      <td>0.2160</td>\n",
       "      <td>0.689</td>\n",
       "      <td>213600</td>\n",
       "      <td>0.702</td>\n",
       "      <td>0.00000</td>\n",
       "      <td>F#</td>\n",
       "      <td>0.1590</td>\n",
       "      <td>-5.642</td>\n",
       "      <td>Minor</td>\n",
       "      <td>0.0261</td>\n",
       "      <td>99.031</td>\n",
       "      <td>NaN</td>\n",
       "      <td>0.484</td>\n",
       "      <td>https://api.spotify.com/v1/tracks/6e40mgJiCid5...</td>\n",
       "    </tr>\n",
       "    <tr>\n",
       "      <th>1</th>\n",
       "      <td>1</td>\n",
       "      <td>4r8lRYnoOGdEi6YyI5OC1o</td>\n",
       "      <td>Bye Bye Bye</td>\n",
       "      <td>0.0408</td>\n",
       "      <td>0.614</td>\n",
       "      <td>200560</td>\n",
       "      <td>0.928</td>\n",
       "      <td>0.00104</td>\n",
       "      <td>G#</td>\n",
       "      <td>0.0845</td>\n",
       "      <td>-4.806</td>\n",
       "      <td>Minor</td>\n",
       "      <td>0.0516</td>\n",
       "      <td>172.656</td>\n",
       "      <td>NaN</td>\n",
       "      <td>0.879</td>\n",
       "      <td>https://api.spotify.com/v1/tracks/4r8lRYnoOGdE...</td>\n",
       "    </tr>\n",
       "    <tr>\n",
       "      <th>2</th>\n",
       "      <td>2</td>\n",
       "      <td>1Je1IMUlBXcx1Fz0WE7oPT</td>\n",
       "      <td>Wannabe</td>\n",
       "      <td>0.1010</td>\n",
       "      <td>0.768</td>\n",
       "      <td>173027</td>\n",
       "      <td>0.864</td>\n",
       "      <td>0.00000</td>\n",
       "      <td>B</td>\n",
       "      <td>0.1620</td>\n",
       "      <td>-6.145</td>\n",
       "      <td>Major</td>\n",
       "      <td>0.0324</td>\n",
       "      <td>110.008</td>\n",
       "      <td>NaN</td>\n",
       "      <td>0.891</td>\n",
       "      <td>https://api.spotify.com/v1/tracks/1Je1IMUlBXcx...</td>\n",
       "    </tr>\n",
       "    <tr>\n",
       "      <th>3</th>\n",
       "      <td>3</td>\n",
       "      <td>3QHONiXGMGU3z68mQInncF</td>\n",
       "      <td>I'll Be Missing You (feat. 112)</td>\n",
       "      <td>0.0522</td>\n",
       "      <td>0.862</td>\n",
       "      <td>301520</td>\n",
       "      <td>0.479</td>\n",
       "      <td>0.00126</td>\n",
       "      <td>G</td>\n",
       "      <td>0.5890</td>\n",
       "      <td>-9.199</td>\n",
       "      <td>Major</td>\n",
       "      <td>0.0646</td>\n",
       "      <td>109.878</td>\n",
       "      <td>NaN</td>\n",
       "      <td>0.925</td>\n",
       "      <td>https://api.spotify.com/v1/tracks/3QHONiXGMGU3...</td>\n",
       "    </tr>\n",
       "    <tr>\n",
       "      <th>4</th>\n",
       "      <td>4</td>\n",
       "      <td>1di1BEgJYzPvXUuinsYJGP</td>\n",
       "      <td>Everybody (Backstreet's Back) - Radio Edit</td>\n",
       "      <td>0.0352</td>\n",
       "      <td>0.731</td>\n",
       "      <td>225360</td>\n",
       "      <td>0.853</td>\n",
       "      <td>0.00000</td>\n",
       "      <td>A#</td>\n",
       "      <td>0.2680</td>\n",
       "      <td>-4.219</td>\n",
       "      <td>Minor</td>\n",
       "      <td>0.0363</td>\n",
       "      <td>108.016</td>\n",
       "      <td>NaN</td>\n",
       "      <td>0.605</td>\n",
       "      <td>https://api.spotify.com/v1/tracks/1di1BEgJYzPv...</td>\n",
       "    </tr>\n",
       "  </tbody>\n",
       "</table>\n",
       "</div>"
      ],
      "text/plain": [
       "   row                      id                                       track  \\\n",
       "0    0  6e40mgJiCid5HRAGrbpGA6                          I Want It That Way   \n",
       "1    1  4r8lRYnoOGdEi6YyI5OC1o                                 Bye Bye Bye   \n",
       "2    2  1Je1IMUlBXcx1Fz0WE7oPT                                     Wannabe   \n",
       "3    3  3QHONiXGMGU3z68mQInncF             I'll Be Missing You (feat. 112)   \n",
       "4    4  1di1BEgJYzPvXUuinsYJGP  Everybody (Backstreet's Back) - Radio Edit   \n",
       "\n",
       "   acousticness  danceability  duration_ms  energy  instrumentalness key  \\\n",
       "0        0.2160         0.689       213600   0.702           0.00000  F#   \n",
       "1        0.0408         0.614       200560   0.928           0.00104  G#   \n",
       "2        0.1010         0.768       173027   0.864           0.00000   B   \n",
       "3        0.0522         0.862       301520   0.479           0.00126   G   \n",
       "4        0.0352         0.731       225360   0.853           0.00000  A#   \n",
       "\n",
       "   liveness  loudness   mode  speechiness    tempo  time_signature  valence  \\\n",
       "0    0.1590    -5.642  Minor       0.0261   99.031             NaN    0.484   \n",
       "1    0.0845    -4.806  Minor       0.0516  172.656             NaN    0.879   \n",
       "2    0.1620    -6.145  Major       0.0324  110.008             NaN    0.891   \n",
       "3    0.5890    -9.199  Major       0.0646  109.878             NaN    0.925   \n",
       "4    0.2680    -4.219  Minor       0.0363  108.016             NaN    0.605   \n",
       "\n",
       "                                          track_href  \n",
       "0  https://api.spotify.com/v1/tracks/6e40mgJiCid5...  \n",
       "1  https://api.spotify.com/v1/tracks/4r8lRYnoOGdE...  \n",
       "2  https://api.spotify.com/v1/tracks/1Je1IMUlBXcx...  \n",
       "3  https://api.spotify.com/v1/tracks/3QHONiXGMGU3...  \n",
       "4  https://api.spotify.com/v1/tracks/1di1BEgJYzPv...  "
      ]
     },
     "execution_count": 161,
     "metadata": {},
     "output_type": "execute_result"
    }
   ],
   "source": [
    "df = pd.read_csv('db/master_spotify.csv',  encoding=\"ISO-8859-1\")\n",
    "df.tail()"
   ]
  },
  {
   "cell_type": "code",
   "execution_count": 310,
   "metadata": {},
   "outputs": [
    {
     "name": "stdout",
     "output_type": "stream",
     "text": [
      "<class 'pandas.core.frame.DataFrame'>\n",
      "RangeIndex: 5341 entries, 0 to 5340\n",
      "Data columns (total 16 columns):\n",
      "id                  3332 non-null object\n",
      "track               5341 non-null object\n",
      "acousticness        5341 non-null float64\n",
      "danceability        5341 non-null float64\n",
      "duration_ms         5341 non-null int64\n",
      "energy              5341 non-null float64\n",
      "instrumentalness    5341 non-null float64\n",
      "key                 5341 non-null object\n",
      "liveness            5341 non-null float64\n",
      "loudness            5341 non-null float64\n",
      "mode                5341 non-null object\n",
      "speechiness         5341 non-null float64\n",
      "tempo               5341 non-null float64\n",
      "time_signature      3004 non-null float64\n",
      "valence             5341 non-null float64\n",
      "track_href          3193 non-null object\n",
      "dtypes: float64(10), int64(1), object(5)\n",
      "memory usage: 667.7+ KB\n"
     ]
    }
   ],
   "source": [
    "df.info()"
   ]
  },
  {
   "cell_type": "code",
   "execution_count": 162,
   "metadata": {},
   "outputs": [],
   "source": [
    "df = df.drop(columns=['row'])"
   ]
  },
  {
   "cell_type": "code",
   "execution_count": 163,
   "metadata": {},
   "outputs": [
    {
     "data": {
      "text/plain": [
       "id                   object\n",
       "track                object\n",
       "acousticness        float64\n",
       "danceability        float64\n",
       "duration_ms           int64\n",
       "energy              float64\n",
       "instrumentalness    float64\n",
       "key                  object\n",
       "liveness            float64\n",
       "loudness            float64\n",
       "mode                 object\n",
       "speechiness         float64\n",
       "tempo               float64\n",
       "time_signature      float64\n",
       "valence             float64\n",
       "track_href           object\n",
       "dtype: object"
      ]
     },
     "execution_count": 163,
     "metadata": {},
     "output_type": "execute_result"
    }
   ],
   "source": [
    "df.dtypes"
   ]
  },
  {
   "cell_type": "markdown",
   "metadata": {},
   "source": [
    "# Model 1"
   ]
  },
  {
   "cell_type": "code",
   "execution_count": 164,
   "metadata": {},
   "outputs": [],
   "source": [
    "X = df.energy.values.reshape(-1,1)\n",
    "y = df.tempo.values.reshape(-1,1)"
   ]
  },
  {
   "cell_type": "code",
   "execution_count": 165,
   "metadata": {},
   "outputs": [
    {
     "name": "stdout",
     "output_type": "stream",
     "text": [
      "Shape:  (5341, 1) (5341, 1)\n"
     ]
    },
    {
     "data": {
      "text/plain": [
       "array([[0.702],\n",
       "       [0.928],\n",
       "       [0.864],\n",
       "       ...,\n",
       "       [0.816],\n",
       "       [0.699],\n",
       "       [0.478]])"
      ]
     },
     "execution_count": 165,
     "metadata": {},
     "output_type": "execute_result"
    }
   ],
   "source": [
    "print(\"Shape: \", X.shape, y.shape)\n",
    "X"
   ]
  },
  {
   "cell_type": "code",
   "execution_count": 166,
   "metadata": {},
   "outputs": [
    {
     "data": {
      "text/plain": [
       "<matplotlib.collections.PathCollection at 0x1a21b9c6d8>"
      ]
     },
     "execution_count": 166,
     "metadata": {},
     "output_type": "execute_result"
    },
    {
     "data": {
      "image/png": "[encoded data removed]",
      "text/plain": [
       "<matplotlib.figure.Figure at 0x1a21b17438>"
      ]
     },
     "metadata": {},
     "output_type": "display_data"
    }
   ],
   "source": [
    "plt.scatter(X, y)"
   ]
  },
  {
   "cell_type": "code",
   "execution_count": 167,
   "metadata": {},
   "outputs": [],
   "source": [
    "from sklearn.linear_model import LinearRegression\n",
    "\n",
    "model = LinearRegression()"
   ]
  },
  {
   "cell_type": "code",
   "execution_count": 168,
   "metadata": {},
   "outputs": [
    {
     "data": {
      "text/plain": [
       "LinearRegression(copy_X=True, fit_intercept=True, n_jobs=None,\n",
       "         normalize=False)"
      ]
     },
     "execution_count": 168,
     "metadata": {},
     "output_type": "execute_result"
    }
   ],
   "source": [
    "model.fit(X, y)"
   ]
  },
  {
   "cell_type": "code",
   "execution_count": 169,
   "metadata": {},
   "outputs": [
    {
     "name": "stdout",
     "output_type": "stream",
     "text": [
      "Weight coefficients:  [[20.13143872]]\n",
      "y-axis intercept:  [107.09425777]\n"
     ]
    }
   ],
   "source": [
    "print('Weight coefficients: ', model.coef_)\n",
    "print('y-axis intercept: ', model.intercept_)"
   ]
  },
  {
   "cell_type": "code",
   "execution_count": 170,
   "metadata": {},
   "outputs": [
    {
     "name": "stdout",
     "output_type": "stream",
     "text": [
      "Min X Value: [[0.0148]]\n",
      "Max X Value: [[0.998]]\n"
     ]
    }
   ],
   "source": [
    "x_min = np.array([[X.min()]])\n",
    "x_max = np.array([[X.max()]])\n",
    "print(f\"Min X Value: {x_min}\")\n",
    "print(f\"Max X Value: {x_max}\")"
   ]
  },
  {
   "cell_type": "code",
   "execution_count": 171,
   "metadata": {},
   "outputs": [],
   "source": [
    "y_min = model.predict(x_min)\n",
    "y_max = model.predict(x_max)"
   ]
  },
  {
   "cell_type": "code",
   "execution_count": 172,
   "metadata": {},
   "outputs": [
    {
     "data": {
      "text/plain": [
       "[<matplotlib.lines.Line2D at 0x1a21b25978>]"
      ]
     },
     "execution_count": 172,
     "metadata": {},
     "output_type": "execute_result"
    },
    {
     "data": {
      "image/png": "[encoded data removed]",
      "text/plain": [
       "<matplotlib.figure.Figure at 0x1a21b25f98>"
      ]
     },
     "metadata": {},
     "output_type": "display_data"
    }
   ],
   "source": [
    "plt.scatter(X, y, c='blue')\n",
    "plt.plot([x_min[0], x_max[0]], [y_min[0], y_max[0]], c='red')"
   ]
  },
  {
   "cell_type": "markdown",
   "metadata": {},
   "source": [
    "# Model 2 - Loudness"
   ]
  },
  {
   "cell_type": "markdown",
   "metadata": {},
   "source": [
    "use for features: acousticness, duration_ms, energy, instrumentalness, key, liveness, loudness, mode, speechiness, tempo, valence"
   ]
  },
  {
   "cell_type": "markdown",
   "metadata": {},
   "source": [
    "use for label: danceability"
   ]
  },
  {
   "cell_type": "code",
   "execution_count": 209,
   "metadata": {},
   "outputs": [
    {
     "data": {
      "text/plain": [
       "id                  3332\n",
       "track               5341\n",
       "acousticness        5341\n",
       "danceability        5341\n",
       "duration_ms         5341\n",
       "energy              5341\n",
       "instrumentalness    5341\n",
       "key                 5341\n",
       "liveness            5341\n",
       "loudness            5341\n",
       "mode                5341\n",
       "speechiness         5341\n",
       "tempo               5341\n",
       "time_signature      3004\n",
       "valence             5341\n",
       "track_href          3193\n",
       "dtype: int64"
      ]
     },
     "execution_count": 209,
     "metadata": {},
     "output_type": "execute_result"
    }
   ],
   "source": [
    "df.count()"
   ]
  },
  {
   "cell_type": "code",
   "execution_count": 318,
   "metadata": {},
   "outputs": [
    {
     "data": {
      "text/plain": [
       "Index(['id', 'track', 'acousticness', 'danceability', 'duration_ms', 'energy',\n",
       "       'instrumentalness', 'key', 'liveness', 'loudness', 'mode',\n",
       "       'speechiness', 'tempo', 'time_signature', 'valence', 'track_href'],\n",
       "      dtype='object')"
      ]
     },
     "execution_count": 318,
     "metadata": {},
     "output_type": "execute_result"
    }
   ],
   "source": [
    "df.columns"
   ]
  },
  {
   "cell_type": "code",
   "execution_count": 319,
   "metadata": {},
   "outputs": [
    {
     "name": "stdout",
     "output_type": "stream",
     "text": [
      "(5341, 9) (5341,)\n"
     ]
    }
   ],
   "source": [
    "X = df.drop(['danceability', 'id', 'track', 'key', 'mode', 'time_signature', 'track_href'], axis=1)\n",
    "y = df['danceability'].copy()\n",
    "print(X.shape, y.shape)"
   ]
  },
  {
   "cell_type": "code",
   "execution_count": 320,
   "metadata": {},
   "outputs": [],
   "source": [
    "from sklearn.model_selection import train_test_split\n",
    "\n",
    "X_train, X_test, y_train, y_test = train_test_split(X, y, random_state=42)"
   ]
  },
  {
   "cell_type": "code",
   "execution_count": 321,
   "metadata": {},
   "outputs": [],
   "source": [
    "from sklearn.linear_model import LinearRegression\n",
    "model = LinearRegression()"
   ]
  },
  {
   "cell_type": "code",
   "execution_count": 322,
   "metadata": {},
   "outputs": [
    {
     "name": "stdout",
     "output_type": "stream",
     "text": [
      "Loudness Training Score: 0.3081528220962776\n",
      "Loudness Testing Score: 0.29621382483625214\n"
     ]
    }
   ],
   "source": [
    "model.fit(X_train, y_train)\n",
    "training_score = model.score(X_train, y_train)\n",
    "testing_score = model.score(X_test, y_test)\n",
    "\n",
    "print(f\"Loudness Training Score: {training_score}\")\n",
    "print(f\"Loudness Testing Score: {testing_score}\")"
   ]
  },
  {
   "cell_type": "code",
   "execution_count": 326,
   "metadata": {},
   "outputs": [
    {
     "data": {
      "text/plain": [
       "0.12727654223123216"
      ]
     },
     "execution_count": 326,
     "metadata": {},
     "output_type": "execute_result"
    }
   ],
   "source": [
    "from sklearn import metrics\n",
    "\n",
    "predictions = model.predict(X_test)\n",
    "metrics.mean_squared_error(y_test, predictions)**(1/2)"
   ]
  },
  {
   "cell_type": "code",
   "execution_count": 327,
   "metadata": {},
   "outputs": [
    {
     "data": {
      "text/plain": [
       "0.29621382483625214"
      ]
     },
     "execution_count": 327,
     "metadata": {},
     "output_type": "execute_result"
    }
   ],
   "source": [
    "metrics.r2_score(y_test, predictions)"
   ]
  },
  {
   "cell_type": "code",
   "execution_count": 328,
   "metadata": {},
   "outputs": [
    {
     "data": {
      "text/plain": [
       "['models/danceability_model.pkl']"
      ]
     },
     "execution_count": 328,
     "metadata": {},
     "output_type": "execute_result"
    }
   ],
   "source": [
    "from sklearn.externals import joblib\n",
    "\n",
    "joblib.dump(model, 'models/danceability_model.pkl')"
   ]
  },
  {
   "cell_type": "code",
   "execution_count": 329,
   "metadata": {},
   "outputs": [
    {
     "data": {
      "text/html": [
       "<div>\n",
       "<style scoped>\n",
       "    .dataframe tbody tr th:only-of-type {\n",
       "        vertical-align: middle;\n",
       "    }\n",
       "\n",
       "    .dataframe tbody tr th {\n",
       "        vertical-align: top;\n",
       "    }\n",
       "\n",
       "    .dataframe thead th {\n",
       "        text-align: right;\n",
       "    }\n",
       "</style>\n",
       "<table border=\"1\" class=\"dataframe\">\n",
       "  <thead>\n",
       "    <tr style=\"text-align: right;\">\n",
       "      <th></th>\n",
       "      <th>acousticness</th>\n",
       "      <th>duration_ms</th>\n",
       "      <th>energy</th>\n",
       "      <th>instrumentalness</th>\n",
       "      <th>liveness</th>\n",
       "      <th>loudness</th>\n",
       "      <th>speechiness</th>\n",
       "      <th>tempo</th>\n",
       "      <th>valence</th>\n",
       "    </tr>\n",
       "  </thead>\n",
       "  <tbody>\n",
       "    <tr>\n",
       "      <th>3365</th>\n",
       "      <td>0.431000</td>\n",
       "      <td>239800</td>\n",
       "      <td>0.758</td>\n",
       "      <td>0.001770</td>\n",
       "      <td>0.3770</td>\n",
       "      <td>-4.589</td>\n",
       "      <td>0.0368</td>\n",
       "      <td>89.982</td>\n",
       "      <td>0.1520</td>\n",
       "    </tr>\n",
       "    <tr>\n",
       "      <th>1945</th>\n",
       "      <td>0.130000</td>\n",
       "      <td>178560</td>\n",
       "      <td>0.672</td>\n",
       "      <td>0.002830</td>\n",
       "      <td>0.1090</td>\n",
       "      <td>-7.436</td>\n",
       "      <td>0.3050</td>\n",
       "      <td>129.986</td>\n",
       "      <td>0.9250</td>\n",
       "    </tr>\n",
       "    <tr>\n",
       "      <th>5336</th>\n",
       "      <td>0.022000</td>\n",
       "      <td>181714</td>\n",
       "      <td>0.506</td>\n",
       "      <td>0.000000</td>\n",
       "      <td>0.0933</td>\n",
       "      <td>-7.755</td>\n",
       "      <td>0.1610</td>\n",
       "      <td>139.974</td>\n",
       "      <td>0.6960</td>\n",
       "    </tr>\n",
       "    <tr>\n",
       "      <th>4245</th>\n",
       "      <td>0.012000</td>\n",
       "      <td>243573</td>\n",
       "      <td>0.896</td>\n",
       "      <td>0.000000</td>\n",
       "      <td>0.1960</td>\n",
       "      <td>-2.935</td>\n",
       "      <td>0.0630</td>\n",
       "      <td>138.697</td>\n",
       "      <td>0.1560</td>\n",
       "    </tr>\n",
       "    <tr>\n",
       "      <th>168</th>\n",
       "      <td>0.720000</td>\n",
       "      <td>200864</td>\n",
       "      <td>0.293</td>\n",
       "      <td>0.000006</td>\n",
       "      <td>0.3260</td>\n",
       "      <td>-12.507</td>\n",
       "      <td>0.0284</td>\n",
       "      <td>103.869</td>\n",
       "      <td>0.5860</td>\n",
       "    </tr>\n",
       "    <tr>\n",
       "      <th>4162</th>\n",
       "      <td>0.023000</td>\n",
       "      <td>285653</td>\n",
       "      <td>0.814</td>\n",
       "      <td>0.000000</td>\n",
       "      <td>0.0972</td>\n",
       "      <td>-5.146</td>\n",
       "      <td>0.0314</td>\n",
       "      <td>104.980</td>\n",
       "      <td>0.1460</td>\n",
       "    </tr>\n",
       "    <tr>\n",
       "      <th>4284</th>\n",
       "      <td>0.602000</td>\n",
       "      <td>178760</td>\n",
       "      <td>0.566</td>\n",
       "      <td>0.000216</td>\n",
       "      <td>0.2020</td>\n",
       "      <td>-7.230</td>\n",
       "      <td>0.0224</td>\n",
       "      <td>97.998</td>\n",
       "      <td>0.5010</td>\n",
       "    </tr>\n",
       "    <tr>\n",
       "      <th>422</th>\n",
       "      <td>0.037200</td>\n",
       "      <td>186987</td>\n",
       "      <td>0.683</td>\n",
       "      <td>0.000000</td>\n",
       "      <td>0.1370</td>\n",
       "      <td>-2.881</td>\n",
       "      <td>0.1170</td>\n",
       "      <td>96.133</td>\n",
       "      <td>0.6030</td>\n",
       "    </tr>\n",
       "    <tr>\n",
       "      <th>4473</th>\n",
       "      <td>0.142000</td>\n",
       "      <td>214027</td>\n",
       "      <td>0.700</td>\n",
       "      <td>0.000002</td>\n",
       "      <td>0.3830</td>\n",
       "      <td>-6.852</td>\n",
       "      <td>0.0366</td>\n",
       "      <td>117.111</td>\n",
       "      <td>0.6950</td>\n",
       "    </tr>\n",
       "    <tr>\n",
       "      <th>296</th>\n",
       "      <td>0.007010</td>\n",
       "      <td>199080</td>\n",
       "      <td>0.866</td>\n",
       "      <td>0.000000</td>\n",
       "      <td>0.2570</td>\n",
       "      <td>-3.804</td>\n",
       "      <td>0.0619</td>\n",
       "      <td>128.038</td>\n",
       "      <td>0.6190</td>\n",
       "    </tr>\n",
       "    <tr>\n",
       "      <th>297</th>\n",
       "      <td>0.016300</td>\n",
       "      <td>225920</td>\n",
       "      <td>0.872</td>\n",
       "      <td>0.001740</td>\n",
       "      <td>0.0924</td>\n",
       "      <td>-9.156</td>\n",
       "      <td>0.0498</td>\n",
       "      <td>169.088</td>\n",
       "      <td>0.8590</td>\n",
       "    </tr>\n",
       "    <tr>\n",
       "      <th>3408</th>\n",
       "      <td>0.005520</td>\n",
       "      <td>262333</td>\n",
       "      <td>0.682</td>\n",
       "      <td>0.000029</td>\n",
       "      <td>0.0589</td>\n",
       "      <td>-4.095</td>\n",
       "      <td>0.0294</td>\n",
       "      <td>167.060</td>\n",
       "      <td>0.4740</td>\n",
       "    </tr>\n",
       "    <tr>\n",
       "      <th>1477</th>\n",
       "      <td>0.037700</td>\n",
       "      <td>215973</td>\n",
       "      <td>0.691</td>\n",
       "      <td>0.563000</td>\n",
       "      <td>0.0657</td>\n",
       "      <td>-7.595</td>\n",
       "      <td>0.0301</td>\n",
       "      <td>131.588</td>\n",
       "      <td>0.7180</td>\n",
       "    </tr>\n",
       "    <tr>\n",
       "      <th>418</th>\n",
       "      <td>0.293000</td>\n",
       "      <td>193377</td>\n",
       "      <td>0.897</td>\n",
       "      <td>0.000000</td>\n",
       "      <td>0.0722</td>\n",
       "      <td>-4.481</td>\n",
       "      <td>0.0360</td>\n",
       "      <td>114.033</td>\n",
       "      <td>0.4750</td>\n",
       "    </tr>\n",
       "    <tr>\n",
       "      <th>1049</th>\n",
       "      <td>0.006550</td>\n",
       "      <td>220160</td>\n",
       "      <td>0.946</td>\n",
       "      <td>0.000035</td>\n",
       "      <td>0.0524</td>\n",
       "      <td>-5.281</td>\n",
       "      <td>0.0638</td>\n",
       "      <td>115.425</td>\n",
       "      <td>0.8900</td>\n",
       "    </tr>\n",
       "    <tr>\n",
       "      <th>3714</th>\n",
       "      <td>0.049000</td>\n",
       "      <td>233478</td>\n",
       "      <td>0.698</td>\n",
       "      <td>0.000000</td>\n",
       "      <td>0.3090</td>\n",
       "      <td>-4.165</td>\n",
       "      <td>0.0431</td>\n",
       "      <td>143.994</td>\n",
       "      <td>0.8670</td>\n",
       "    </tr>\n",
       "    <tr>\n",
       "      <th>1820</th>\n",
       "      <td>0.007230</td>\n",
       "      <td>259683</td>\n",
       "      <td>0.633</td>\n",
       "      <td>0.000000</td>\n",
       "      <td>0.2460</td>\n",
       "      <td>-8.224</td>\n",
       "      <td>0.2350</td>\n",
       "      <td>85.041</td>\n",
       "      <td>0.3980</td>\n",
       "    </tr>\n",
       "    <tr>\n",
       "      <th>84</th>\n",
       "      <td>0.078300</td>\n",
       "      <td>274707</td>\n",
       "      <td>0.434</td>\n",
       "      <td>0.000049</td>\n",
       "      <td>0.1400</td>\n",
       "      <td>-14.918</td>\n",
       "      <td>0.0265</td>\n",
       "      <td>94.845</td>\n",
       "      <td>0.2040</td>\n",
       "    </tr>\n",
       "    <tr>\n",
       "      <th>1902</th>\n",
       "      <td>0.768000</td>\n",
       "      <td>283872</td>\n",
       "      <td>0.216</td>\n",
       "      <td>0.897000</td>\n",
       "      <td>0.0832</td>\n",
       "      <td>-13.818</td>\n",
       "      <td>0.0345</td>\n",
       "      <td>116.388</td>\n",
       "      <td>0.1760</td>\n",
       "    </tr>\n",
       "    <tr>\n",
       "      <th>4326</th>\n",
       "      <td>0.200000</td>\n",
       "      <td>250706</td>\n",
       "      <td>0.774</td>\n",
       "      <td>0.000000</td>\n",
       "      <td>0.4040</td>\n",
       "      <td>-4.983</td>\n",
       "      <td>0.0466</td>\n",
       "      <td>90.000</td>\n",
       "      <td>0.6520</td>\n",
       "    </tr>\n",
       "    <tr>\n",
       "      <th>2549</th>\n",
       "      <td>0.036200</td>\n",
       "      <td>585000</td>\n",
       "      <td>0.792</td>\n",
       "      <td>0.881000</td>\n",
       "      <td>0.1010</td>\n",
       "      <td>-8.211</td>\n",
       "      <td>0.0465</td>\n",
       "      <td>128.018</td>\n",
       "      <td>0.0348</td>\n",
       "    </tr>\n",
       "    <tr>\n",
       "      <th>705</th>\n",
       "      <td>0.043300</td>\n",
       "      <td>168908</td>\n",
       "      <td>0.566</td>\n",
       "      <td>0.000000</td>\n",
       "      <td>0.1120</td>\n",
       "      <td>-5.704</td>\n",
       "      <td>0.0515</td>\n",
       "      <td>108.016</td>\n",
       "      <td>0.5080</td>\n",
       "    </tr>\n",
       "    <tr>\n",
       "      <th>3826</th>\n",
       "      <td>0.176000</td>\n",
       "      <td>231173</td>\n",
       "      <td>0.668</td>\n",
       "      <td>0.000104</td>\n",
       "      <td>0.0732</td>\n",
       "      <td>-5.561</td>\n",
       "      <td>0.0505</td>\n",
       "      <td>140.919</td>\n",
       "      <td>0.2710</td>\n",
       "    </tr>\n",
       "    <tr>\n",
       "      <th>3271</th>\n",
       "      <td>0.118000</td>\n",
       "      <td>195075</td>\n",
       "      <td>0.588</td>\n",
       "      <td>0.000000</td>\n",
       "      <td>0.1380</td>\n",
       "      <td>-4.889</td>\n",
       "      <td>0.0405</td>\n",
       "      <td>81.997</td>\n",
       "      <td>0.3360</td>\n",
       "    </tr>\n",
       "    <tr>\n",
       "      <th>4296</th>\n",
       "      <td>0.218000</td>\n",
       "      <td>228226</td>\n",
       "      <td>0.736</td>\n",
       "      <td>0.000000</td>\n",
       "      <td>0.0595</td>\n",
       "      <td>-5.005</td>\n",
       "      <td>0.1440</td>\n",
       "      <td>107.070</td>\n",
       "      <td>0.9210</td>\n",
       "    </tr>\n",
       "    <tr>\n",
       "      <th>2099</th>\n",
       "      <td>0.073900</td>\n",
       "      <td>301240</td>\n",
       "      <td>0.663</td>\n",
       "      <td>0.003510</td>\n",
       "      <td>0.0814</td>\n",
       "      <td>-3.639</td>\n",
       "      <td>0.1050</td>\n",
       "      <td>103.693</td>\n",
       "      <td>0.4570</td>\n",
       "    </tr>\n",
       "    <tr>\n",
       "      <th>5088</th>\n",
       "      <td>0.039300</td>\n",
       "      <td>320267</td>\n",
       "      <td>0.505</td>\n",
       "      <td>0.000000</td>\n",
       "      <td>0.0923</td>\n",
       "      <td>-8.926</td>\n",
       "      <td>0.2450</td>\n",
       "      <td>99.935</td>\n",
       "      <td>0.4950</td>\n",
       "    </tr>\n",
       "    <tr>\n",
       "      <th>3194</th>\n",
       "      <td>0.059600</td>\n",
       "      <td>289559</td>\n",
       "      <td>0.922</td>\n",
       "      <td>0.000002</td>\n",
       "      <td>0.1260</td>\n",
       "      <td>-4.087</td>\n",
       "      <td>0.0592</td>\n",
       "      <td>162.978</td>\n",
       "      <td>0.3350</td>\n",
       "    </tr>\n",
       "    <tr>\n",
       "      <th>1672</th>\n",
       "      <td>0.082900</td>\n",
       "      <td>192026</td>\n",
       "      <td>0.619</td>\n",
       "      <td>0.000000</td>\n",
       "      <td>0.0533</td>\n",
       "      <td>-8.324</td>\n",
       "      <td>0.3520</td>\n",
       "      <td>140.031</td>\n",
       "      <td>0.6060</td>\n",
       "    </tr>\n",
       "    <tr>\n",
       "      <th>1188</th>\n",
       "      <td>0.013200</td>\n",
       "      <td>330920</td>\n",
       "      <td>0.778</td>\n",
       "      <td>0.666000</td>\n",
       "      <td>0.1090</td>\n",
       "      <td>-5.485</td>\n",
       "      <td>0.0399</td>\n",
       "      <td>120.001</td>\n",
       "      <td>0.7970</td>\n",
       "    </tr>\n",
       "    <tr>\n",
       "      <th>...</th>\n",
       "      <td>...</td>\n",
       "      <td>...</td>\n",
       "      <td>...</td>\n",
       "      <td>...</td>\n",
       "      <td>...</td>\n",
       "      <td>...</td>\n",
       "      <td>...</td>\n",
       "      <td>...</td>\n",
       "      <td>...</td>\n",
       "    </tr>\n",
       "    <tr>\n",
       "      <th>5240</th>\n",
       "      <td>0.105000</td>\n",
       "      <td>231271</td>\n",
       "      <td>0.833</td>\n",
       "      <td>0.000000</td>\n",
       "      <td>0.3590</td>\n",
       "      <td>-5.555</td>\n",
       "      <td>0.1160</td>\n",
       "      <td>205.375</td>\n",
       "      <td>0.8050</td>\n",
       "    </tr>\n",
       "    <tr>\n",
       "      <th>2439</th>\n",
       "      <td>0.000482</td>\n",
       "      <td>282101</td>\n",
       "      <td>0.905</td>\n",
       "      <td>0.000489</td>\n",
       "      <td>0.6860</td>\n",
       "      <td>-4.897</td>\n",
       "      <td>0.1360</td>\n",
       "      <td>112.940</td>\n",
       "      <td>0.1600</td>\n",
       "    </tr>\n",
       "    <tr>\n",
       "      <th>2276</th>\n",
       "      <td>0.005170</td>\n",
       "      <td>212027</td>\n",
       "      <td>0.592</td>\n",
       "      <td>0.000015</td>\n",
       "      <td>0.1240</td>\n",
       "      <td>-6.334</td>\n",
       "      <td>0.0457</td>\n",
       "      <td>110.991</td>\n",
       "      <td>0.1600</td>\n",
       "    </tr>\n",
       "    <tr>\n",
       "      <th>3691</th>\n",
       "      <td>0.346000</td>\n",
       "      <td>242733</td>\n",
       "      <td>0.547</td>\n",
       "      <td>0.000302</td>\n",
       "      <td>0.1320</td>\n",
       "      <td>-7.273</td>\n",
       "      <td>0.0489</td>\n",
       "      <td>95.002</td>\n",
       "      <td>0.4410</td>\n",
       "    </tr>\n",
       "    <tr>\n",
       "      <th>3454</th>\n",
       "      <td>0.141000</td>\n",
       "      <td>230453</td>\n",
       "      <td>0.588</td>\n",
       "      <td>0.000006</td>\n",
       "      <td>0.1370</td>\n",
       "      <td>-7.015</td>\n",
       "      <td>0.2760</td>\n",
       "      <td>186.005</td>\n",
       "      <td>0.4860</td>\n",
       "    </tr>\n",
       "    <tr>\n",
       "      <th>3089</th>\n",
       "      <td>0.342000</td>\n",
       "      <td>178026</td>\n",
       "      <td>0.750</td>\n",
       "      <td>0.363000</td>\n",
       "      <td>0.0804</td>\n",
       "      <td>-6.599</td>\n",
       "      <td>0.0479</td>\n",
       "      <td>149.931</td>\n",
       "      <td>0.3800</td>\n",
       "    </tr>\n",
       "    <tr>\n",
       "      <th>476</th>\n",
       "      <td>0.172000</td>\n",
       "      <td>256600</td>\n",
       "      <td>0.464</td>\n",
       "      <td>0.000007</td>\n",
       "      <td>0.0546</td>\n",
       "      <td>-8.560</td>\n",
       "      <td>0.2700</td>\n",
       "      <td>124.081</td>\n",
       "      <td>0.7620</td>\n",
       "    </tr>\n",
       "    <tr>\n",
       "      <th>4601</th>\n",
       "      <td>0.148000</td>\n",
       "      <td>214960</td>\n",
       "      <td>0.900</td>\n",
       "      <td>0.000297</td>\n",
       "      <td>0.3400</td>\n",
       "      <td>-6.406</td>\n",
       "      <td>0.0582</td>\n",
       "      <td>95.826</td>\n",
       "      <td>0.4200</td>\n",
       "    </tr>\n",
       "    <tr>\n",
       "      <th>3897</th>\n",
       "      <td>0.007480</td>\n",
       "      <td>220626</td>\n",
       "      <td>0.821</td>\n",
       "      <td>0.001500</td>\n",
       "      <td>0.1150</td>\n",
       "      <td>-5.864</td>\n",
       "      <td>0.0419</td>\n",
       "      <td>122.017</td>\n",
       "      <td>0.6840</td>\n",
       "    </tr>\n",
       "    <tr>\n",
       "      <th>312</th>\n",
       "      <td>0.017100</td>\n",
       "      <td>233200</td>\n",
       "      <td>0.887</td>\n",
       "      <td>0.000602</td>\n",
       "      <td>0.0706</td>\n",
       "      <td>-6.449</td>\n",
       "      <td>0.0372</td>\n",
       "      <td>113.535</td>\n",
       "      <td>0.8860</td>\n",
       "    </tr>\n",
       "    <tr>\n",
       "      <th>508</th>\n",
       "      <td>0.022700</td>\n",
       "      <td>170820</td>\n",
       "      <td>0.954</td>\n",
       "      <td>0.000001</td>\n",
       "      <td>0.2140</td>\n",
       "      <td>-4.257</td>\n",
       "      <td>0.1450</td>\n",
       "      <td>123.975</td>\n",
       "      <td>0.7460</td>\n",
       "    </tr>\n",
       "    <tr>\n",
       "      <th>166</th>\n",
       "      <td>0.778000</td>\n",
       "      <td>217973</td>\n",
       "      <td>0.235</td>\n",
       "      <td>0.000000</td>\n",
       "      <td>0.1870</td>\n",
       "      <td>-10.121</td>\n",
       "      <td>0.0287</td>\n",
       "      <td>137.829</td>\n",
       "      <td>0.3680</td>\n",
       "    </tr>\n",
       "    <tr>\n",
       "      <th>4595</th>\n",
       "      <td>0.287000</td>\n",
       "      <td>300000</td>\n",
       "      <td>0.722</td>\n",
       "      <td>0.186000</td>\n",
       "      <td>0.2830</td>\n",
       "      <td>-8.373</td>\n",
       "      <td>0.0347</td>\n",
       "      <td>117.312</td>\n",
       "      <td>0.1560</td>\n",
       "    </tr>\n",
       "    <tr>\n",
       "      <th>4627</th>\n",
       "      <td>0.481000</td>\n",
       "      <td>456640</td>\n",
       "      <td>0.572</td>\n",
       "      <td>0.000532</td>\n",
       "      <td>0.1050</td>\n",
       "      <td>-12.324</td>\n",
       "      <td>0.0388</td>\n",
       "      <td>115.839</td>\n",
       "      <td>0.5800</td>\n",
       "    </tr>\n",
       "    <tr>\n",
       "      <th>1024</th>\n",
       "      <td>0.037200</td>\n",
       "      <td>201027</td>\n",
       "      <td>0.946</td>\n",
       "      <td>0.000000</td>\n",
       "      <td>0.3520</td>\n",
       "      <td>-4.591</td>\n",
       "      <td>0.1450</td>\n",
       "      <td>177.489</td>\n",
       "      <td>0.4860</td>\n",
       "    </tr>\n",
       "    <tr>\n",
       "      <th>1221</th>\n",
       "      <td>0.123000</td>\n",
       "      <td>236760</td>\n",
       "      <td>0.793</td>\n",
       "      <td>0.000000</td>\n",
       "      <td>0.0805</td>\n",
       "      <td>-5.332</td>\n",
       "      <td>0.1050</td>\n",
       "      <td>129.948</td>\n",
       "      <td>0.4600</td>\n",
       "    </tr>\n",
       "    <tr>\n",
       "      <th>1835</th>\n",
       "      <td>0.015100</td>\n",
       "      <td>255632</td>\n",
       "      <td>0.732</td>\n",
       "      <td>0.000119</td>\n",
       "      <td>0.0897</td>\n",
       "      <td>-5.450</td>\n",
       "      <td>0.1680</td>\n",
       "      <td>122.025</td>\n",
       "      <td>0.5290</td>\n",
       "    </tr>\n",
       "    <tr>\n",
       "      <th>2407</th>\n",
       "      <td>0.000015</td>\n",
       "      <td>311217</td>\n",
       "      <td>0.994</td>\n",
       "      <td>0.001200</td>\n",
       "      <td>0.0908</td>\n",
       "      <td>-4.584</td>\n",
       "      <td>0.1930</td>\n",
       "      <td>125.035</td>\n",
       "      <td>0.0703</td>\n",
       "    </tr>\n",
       "    <tr>\n",
       "      <th>4812</th>\n",
       "      <td>0.034000</td>\n",
       "      <td>246364</td>\n",
       "      <td>0.710</td>\n",
       "      <td>0.000000</td>\n",
       "      <td>0.1440</td>\n",
       "      <td>-3.644</td>\n",
       "      <td>0.1340</td>\n",
       "      <td>174.052</td>\n",
       "      <td>0.9080</td>\n",
       "    </tr>\n",
       "    <tr>\n",
       "      <th>1897</th>\n",
       "      <td>0.394000</td>\n",
       "      <td>160187</td>\n",
       "      <td>0.265</td>\n",
       "      <td>0.000000</td>\n",
       "      <td>0.1490</td>\n",
       "      <td>-11.101</td>\n",
       "      <td>0.0322</td>\n",
       "      <td>113.564</td>\n",
       "      <td>0.2820</td>\n",
       "    </tr>\n",
       "    <tr>\n",
       "      <th>2576</th>\n",
       "      <td>0.016500</td>\n",
       "      <td>209664</td>\n",
       "      <td>0.952</td>\n",
       "      <td>0.145000</td>\n",
       "      <td>0.3050</td>\n",
       "      <td>-3.586</td>\n",
       "      <td>0.0415</td>\n",
       "      <td>127.907</td>\n",
       "      <td>0.2060</td>\n",
       "    </tr>\n",
       "    <tr>\n",
       "      <th>1873</th>\n",
       "      <td>0.003920</td>\n",
       "      <td>201987</td>\n",
       "      <td>0.692</td>\n",
       "      <td>0.000441</td>\n",
       "      <td>0.1050</td>\n",
       "      <td>-7.189</td>\n",
       "      <td>0.0396</td>\n",
       "      <td>103.848</td>\n",
       "      <td>0.5930</td>\n",
       "    </tr>\n",
       "    <tr>\n",
       "      <th>3128</th>\n",
       "      <td>0.029300</td>\n",
       "      <td>335853</td>\n",
       "      <td>0.546</td>\n",
       "      <td>0.000180</td>\n",
       "      <td>0.1730</td>\n",
       "      <td>-11.137</td>\n",
       "      <td>0.0659</td>\n",
       "      <td>127.994</td>\n",
       "      <td>0.1250</td>\n",
       "    </tr>\n",
       "    <tr>\n",
       "      <th>2191</th>\n",
       "      <td>0.229000</td>\n",
       "      <td>228827</td>\n",
       "      <td>0.815</td>\n",
       "      <td>0.000000</td>\n",
       "      <td>0.0924</td>\n",
       "      <td>-4.328</td>\n",
       "      <td>0.1200</td>\n",
       "      <td>88.931</td>\n",
       "      <td>0.8260</td>\n",
       "    </tr>\n",
       "    <tr>\n",
       "      <th>4774</th>\n",
       "      <td>0.050300</td>\n",
       "      <td>177440</td>\n",
       "      <td>0.641</td>\n",
       "      <td>0.000000</td>\n",
       "      <td>0.1210</td>\n",
       "      <td>-8.291</td>\n",
       "      <td>0.0446</td>\n",
       "      <td>146.840</td>\n",
       "      <td>0.9720</td>\n",
       "    </tr>\n",
       "    <tr>\n",
       "      <th>4523</th>\n",
       "      <td>0.794000</td>\n",
       "      <td>330533</td>\n",
       "      <td>0.310</td>\n",
       "      <td>0.000000</td>\n",
       "      <td>0.3790</td>\n",
       "      <td>-14.545</td>\n",
       "      <td>0.0676</td>\n",
       "      <td>177.515</td>\n",
       "      <td>0.5840</td>\n",
       "    </tr>\n",
       "    <tr>\n",
       "      <th>1595</th>\n",
       "      <td>0.017500</td>\n",
       "      <td>185840</td>\n",
       "      <td>0.773</td>\n",
       "      <td>0.001650</td>\n",
       "      <td>0.6510</td>\n",
       "      <td>-3.741</td>\n",
       "      <td>0.2140</td>\n",
       "      <td>100.006</td>\n",
       "      <td>0.4840</td>\n",
       "    </tr>\n",
       "    <tr>\n",
       "      <th>4320</th>\n",
       "      <td>0.331000</td>\n",
       "      <td>303333</td>\n",
       "      <td>0.410</td>\n",
       "      <td>0.000000</td>\n",
       "      <td>0.0640</td>\n",
       "      <td>-8.323</td>\n",
       "      <td>0.1380</td>\n",
       "      <td>75.069</td>\n",
       "      <td>0.4930</td>\n",
       "    </tr>\n",
       "    <tr>\n",
       "      <th>3390</th>\n",
       "      <td>0.000328</td>\n",
       "      <td>204915</td>\n",
       "      <td>0.898</td>\n",
       "      <td>0.796000</td>\n",
       "      <td>0.1020</td>\n",
       "      <td>-6.543</td>\n",
       "      <td>0.0409</td>\n",
       "      <td>130.016</td>\n",
       "      <td>0.2290</td>\n",
       "    </tr>\n",
       "    <tr>\n",
       "      <th>152</th>\n",
       "      <td>0.887000</td>\n",
       "      <td>266720</td>\n",
       "      <td>0.375</td>\n",
       "      <td>0.000000</td>\n",
       "      <td>0.1250</td>\n",
       "      <td>-6.195</td>\n",
       "      <td>0.0336</td>\n",
       "      <td>128.912</td>\n",
       "      <td>0.2090</td>\n",
       "    </tr>\n",
       "  </tbody>\n",
       "</table>\n",
       "<p>1336 rows × 9 columns</p>\n",
       "</div>"
      ],
      "text/plain": [
       "      acousticness  duration_ms  energy  instrumentalness  liveness  loudness  \\\n",
       "3365      0.431000       239800   0.758          0.001770    0.3770    -4.589   \n",
       "1945      0.130000       178560   0.672          0.002830    0.1090    -7.436   \n",
       "5336      0.022000       181714   0.506          0.000000    0.0933    -7.755   \n",
       "4245      0.012000       243573   0.896          0.000000    0.1960    -2.935   \n",
       "168       0.720000       200864   0.293          0.000006    0.3260   -12.507   \n",
       "4162      0.023000       285653   0.814          0.000000    0.0972    -5.146   \n",
       "4284      0.602000       178760   0.566          0.000216    0.2020    -7.230   \n",
       "422       0.037200       186987   0.683          0.000000    0.1370    -2.881   \n",
       "4473      0.142000       214027   0.700          0.000002    0.3830    -6.852   \n",
       "296       0.007010       199080   0.866          0.000000    0.2570    -3.804   \n",
       "297       0.016300       225920   0.872          0.001740    0.0924    -9.156   \n",
       "3408      0.005520       262333   0.682          0.000029    0.0589    -4.095   \n",
       "1477      0.037700       215973   0.691          0.563000    0.0657    -7.595   \n",
       "418       0.293000       193377   0.897          0.000000    0.0722    -4.481   \n",
       "1049      0.006550       220160   0.946          0.000035    0.0524    -5.281   \n",
       "3714      0.049000       233478   0.698          0.000000    0.3090    -4.165   \n",
       "1820      0.007230       259683   0.633          0.000000    0.2460    -8.224   \n",
       "84        0.078300       274707   0.434          0.000049    0.1400   -14.918   \n",
       "1902      0.768000       283872   0.216          0.897000    0.0832   -13.818   \n",
       "4326      0.200000       250706   0.774          0.000000    0.4040    -4.983   \n",
       "2549      0.036200       585000   0.792          0.881000    0.1010    -8.211   \n",
       "705       0.043300       168908   0.566          0.000000    0.1120    -5.704   \n",
       "3826      0.176000       231173   0.668          0.000104    0.0732    -5.561   \n",
       "3271      0.118000       195075   0.588          0.000000    0.1380    -4.889   \n",
       "4296      0.218000       228226   0.736          0.000000    0.0595    -5.005   \n",
       "2099      0.073900       301240   0.663          0.003510    0.0814    -3.639   \n",
       "5088      0.039300       320267   0.505          0.000000    0.0923    -8.926   \n",
       "3194      0.059600       289559   0.922          0.000002    0.1260    -4.087   \n",
       "1672      0.082900       192026   0.619          0.000000    0.0533    -8.324   \n",
       "1188      0.013200       330920   0.778          0.666000    0.1090    -5.485   \n",
       "...            ...          ...     ...               ...       ...       ...   \n",
       "5240      0.105000       231271   0.833          0.000000    0.3590    -5.555   \n",
       "2439      0.000482       282101   0.905          0.000489    0.6860    -4.897   \n",
       "2276      0.005170       212027   0.592          0.000015    0.1240    -6.334   \n",
       "3691      0.346000       242733   0.547          0.000302    0.1320    -7.273   \n",
       "3454      0.141000       230453   0.588          0.000006    0.1370    -7.015   \n",
       "3089      0.342000       178026   0.750          0.363000    0.0804    -6.599   \n",
       "476       0.172000       256600   0.464          0.000007    0.0546    -8.560   \n",
       "4601      0.148000       214960   0.900          0.000297    0.3400    -6.406   \n",
       "3897      0.007480       220626   0.821          0.001500    0.1150    -5.864   \n",
       "312       0.017100       233200   0.887          0.000602    0.0706    -6.449   \n",
       "508       0.022700       170820   0.954          0.000001    0.2140    -4.257   \n",
       "166       0.778000       217973   0.235          0.000000    0.1870   -10.121   \n",
       "4595      0.287000       300000   0.722          0.186000    0.2830    -8.373   \n",
       "4627      0.481000       456640   0.572          0.000532    0.1050   -12.324   \n",
       "1024      0.037200       201027   0.946          0.000000    0.3520    -4.591   \n",
       "1221      0.123000       236760   0.793          0.000000    0.0805    -5.332   \n",
       "1835      0.015100       255632   0.732          0.000119    0.0897    -5.450   \n",
       "2407      0.000015       311217   0.994          0.001200    0.0908    -4.584   \n",
       "4812      0.034000       246364   0.710          0.000000    0.1440    -3.644   \n",
       "1897      0.394000       160187   0.265          0.000000    0.1490   -11.101   \n",
       "2576      0.016500       209664   0.952          0.145000    0.3050    -3.586   \n",
       "1873      0.003920       201987   0.692          0.000441    0.1050    -7.189   \n",
       "3128      0.029300       335853   0.546          0.000180    0.1730   -11.137   \n",
       "2191      0.229000       228827   0.815          0.000000    0.0924    -4.328   \n",
       "4774      0.050300       177440   0.641          0.000000    0.1210    -8.291   \n",
       "4523      0.794000       330533   0.310          0.000000    0.3790   -14.545   \n",
       "1595      0.017500       185840   0.773          0.001650    0.6510    -3.741   \n",
       "4320      0.331000       303333   0.410          0.000000    0.0640    -8.323   \n",
       "3390      0.000328       204915   0.898          0.796000    0.1020    -6.543   \n",
       "152       0.887000       266720   0.375          0.000000    0.1250    -6.195   \n",
       "\n",
       "      speechiness    tempo  valence  \n",
       "3365       0.0368   89.982   0.1520  \n",
       "1945       0.3050  129.986   0.9250  \n",
       "5336       0.1610  139.974   0.6960  \n",
       "4245       0.0630  138.697   0.1560  \n",
       "168        0.0284  103.869   0.5860  \n",
       "4162       0.0314  104.980   0.1460  \n",
       "4284       0.0224   97.998   0.5010  \n",
       "422        0.1170   96.133   0.6030  \n",
       "4473       0.0366  117.111   0.6950  \n",
       "296        0.0619  128.038   0.6190  \n",
       "297        0.0498  169.088   0.8590  \n",
       "3408       0.0294  167.060   0.4740  \n",
       "1477       0.0301  131.588   0.7180  \n",
       "418        0.0360  114.033   0.4750  \n",
       "1049       0.0638  115.425   0.8900  \n",
       "3714       0.0431  143.994   0.8670  \n",
       "1820       0.2350   85.041   0.3980  \n",
       "84         0.0265   94.845   0.2040  \n",
       "1902       0.0345  116.388   0.1760  \n",
       "4326       0.0466   90.000   0.6520  \n",
       "2549       0.0465  128.018   0.0348  \n",
       "705        0.0515  108.016   0.5080  \n",
       "3826       0.0505  140.919   0.2710  \n",
       "3271       0.0405   81.997   0.3360  \n",
       "4296       0.1440  107.070   0.9210  \n",
       "2099       0.1050  103.693   0.4570  \n",
       "5088       0.2450   99.935   0.4950  \n",
       "3194       0.0592  162.978   0.3350  \n",
       "1672       0.3520  140.031   0.6060  \n",
       "1188       0.0399  120.001   0.7970  \n",
       "...           ...      ...      ...  \n",
       "5240       0.1160  205.375   0.8050  \n",
       "2439       0.1360  112.940   0.1600  \n",
       "2276       0.0457  110.991   0.1600  \n",
       "3691       0.0489   95.002   0.4410  \n",
       "3454       0.2760  186.005   0.4860  \n",
       "3089       0.0479  149.931   0.3800  \n",
       "476        0.2700  124.081   0.7620  \n",
       "4601       0.0582   95.826   0.4200  \n",
       "3897       0.0419  122.017   0.6840  \n",
       "312        0.0372  113.535   0.8860  \n",
       "508        0.1450  123.975   0.7460  \n",
       "166        0.0287  137.829   0.3680  \n",
       "4595       0.0347  117.312   0.1560  \n",
       "4627       0.0388  115.839   0.5800  \n",
       "1024       0.1450  177.489   0.4860  \n",
       "1221       0.1050  129.948   0.4600  \n",
       "1835       0.1680  122.025   0.5290  \n",
       "2407       0.1930  125.035   0.0703  \n",
       "4812       0.1340  174.052   0.9080  \n",
       "1897       0.0322  113.564   0.2820  \n",
       "2576       0.0415  127.907   0.2060  \n",
       "1873       0.0396  103.848   0.5930  \n",
       "3128       0.0659  127.994   0.1250  \n",
       "2191       0.1200   88.931   0.8260  \n",
       "4774       0.0446  146.840   0.9720  \n",
       "4523       0.0676  177.515   0.5840  \n",
       "1595       0.2140  100.006   0.4840  \n",
       "4320       0.1380   75.069   0.4930  \n",
       "3390       0.0409  130.016   0.2290  \n",
       "152        0.0336  128.912   0.2090  \n",
       "\n",
       "[1336 rows x 9 columns]"
      ]
     },
     "execution_count": 329,
     "metadata": {},
     "output_type": "execute_result"
    }
   ],
   "source": [
    "X_test"
   ]
  },
  {
   "cell_type": "code",
   "execution_count": 240,
   "metadata": {},
   "outputs": [
    {
     "data": {
      "text/plain": [
       "Text(0.5,1,'Residual Plot')"
      ]
     },
     "execution_count": 240,
     "metadata": {},
     "output_type": "execute_result"
    },
    {
     "data": {
      "image/png": "[encoded data removed]",
      "text/plain": [
       "<matplotlib.figure.Figure at 0x1a22578080>"
      ]
     },
     "metadata": {},
     "output_type": "display_data"
    }
   ],
   "source": [
    "plt.scatter(model.predict(X_train), model.predict(X_train) - y_train, c=\"blue\", label=\"Training Data\")\n",
    "plt.scatter(model.predict(X_test), model.predict(X_test) - y_test, c=\"orange\", label=\"Testing Data\")\n",
    "plt.legend()\n",
    "plt.hlines(y=0, xmin=y.min(), xmax=y.max())\n",
    "plt.title(\"Residual Plot\")"
   ]
  },
  {
   "cell_type": "markdown",
   "metadata": {},
   "source": [
    "# Model 3 - Danceability"
   ]
  },
  {
   "cell_type": "markdown",
   "metadata": {},
   "source": [
    "# Change mode data type from 'object' to 'float'"
   ]
  },
  {
   "cell_type": "code",
   "execution_count": 241,
   "metadata": {},
   "outputs": [
    {
     "data": {
      "text/plain": [
       "id                  3332\n",
       "track               5341\n",
       "acousticness        5341\n",
       "danceability        5341\n",
       "duration_ms         5341\n",
       "energy              5341\n",
       "instrumentalness    5341\n",
       "key                 5341\n",
       "liveness            5341\n",
       "loudness            5341\n",
       "mode                5341\n",
       "speechiness         5341\n",
       "tempo               5341\n",
       "time_signature      3004\n",
       "valence             5341\n",
       "track_href          3193\n",
       "dtype: int64"
      ]
     },
     "execution_count": 241,
     "metadata": {},
     "output_type": "execute_result"
    }
   ],
   "source": [
    "df.count()"
   ]
  },
  {
   "cell_type": "code",
   "execution_count": 242,
   "metadata": {
    "scrolled": true
   },
   "outputs": [
    {
     "name": "stdout",
     "output_type": "stream",
     "text": [
      "(5341, 9) (5341, 1)\n"
     ]
    }
   ],
   "source": [
    "X = df[[\"acousticness\", \"duration_ms\", \"energy\", \"instrumentalness\", \"liveness\", \"loudness\", \"speechiness\", \"tempo\", \"valence\" ]]\n",
    "y = df[\"danceability\"].values.reshape(-1, 1)\n",
    "print(X.shape, y.shape)    "
   ]
  },
  {
   "cell_type": "code",
   "execution_count": 243,
   "metadata": {},
   "outputs": [],
   "source": [
    "X_train, X_test, y_train, y_test = train_test_split(X, y, random_state=42)"
   ]
  },
  {
   "cell_type": "code",
   "execution_count": 244,
   "metadata": {},
   "outputs": [],
   "source": [
    "from sklearn.linear_model import LinearRegression\n",
    "model = LinearRegression()"
   ]
  },
  {
   "cell_type": "code",
   "execution_count": 245,
   "metadata": {},
   "outputs": [
    {
     "name": "stdout",
     "output_type": "stream",
     "text": [
      " Danceability Training Score: 0.3081528220962776\n",
      " Danceability Score: 0.29621382483625214\n"
     ]
    }
   ],
   "source": [
    "model.fit(X_train, y_train)\n",
    "training_score = model.score(X_train, y_train)\n",
    "testing_score = model.score(X_test, y_test)\n",
    "\n",
    "print(f\" Danceability Training Score: {training_score}\")\n",
    "print(f\" Danceability Score: {testing_score}\")"
   ]
  },
  {
   "cell_type": "code",
   "execution_count": 246,
   "metadata": {
    "scrolled": true
   },
   "outputs": [
    {
     "data": {
      "text/plain": [
       "Text(0.5,1,'Residual Plot')"
      ]
     },
     "execution_count": 246,
     "metadata": {},
     "output_type": "execute_result"
    },
    {
     "data": {
      "image/png": "[encoded data removed]",
      "text/plain": [
       "<matplotlib.figure.Figure at 0x1a213995f8>"
      ]
     },
     "metadata": {},
     "output_type": "display_data"
    }
   ],
   "source": [
    "plt.scatter(model.predict(X_train), model.predict(X_train) - y_train, c=\"blue\", label=\"Training Data\")\n",
    "plt.scatter(model.predict(X_test), model.predict(X_test) - y_test, c=\"orange\", label=\"Testing Data\")\n",
    "plt.legend()\n",
    "plt.hlines(y=0, xmin=y.min(), xmax=y.max())\n",
    "plt.title(\"Residual Plot\")"
   ]
  },
  {
   "cell_type": "code",
   "execution_count": null,
   "metadata": {},
   "outputs": [],
   "source": [
    "import pickle\n"
   ]
  },
  {
   "cell_type": "code",
   "execution_count": 298,
   "metadata": {},
   "outputs": [
    {
     "name": "stderr",
     "output_type": "stream",
     "text": [
      "/anaconda3/lib/python3.6/site-packages/sklearn/preprocessing/data.py:617: DataConversionWarning: Data with input dtype int64, float64 were all converted to float64 by StandardScaler.\n",
      "  return self.partial_fit(X, y)\n"
     ]
    }
   ],
   "source": [
    "from sklearn.preprocessing import StandardScaler\n",
    "\n",
    "X_scaler = StandardScaler().fit(X_train)"
   ]
  },
  {
   "cell_type": "code",
   "execution_count": 299,
   "metadata": {
    "scrolled": true
   },
   "outputs": [
    {
     "name": "stderr",
     "output_type": "stream",
     "text": [
      "/anaconda3/lib/python3.6/site-packages/ipykernel_launcher.py:1: DataConversionWarning: Data with input dtype int64, float64 were all converted to float64 by StandardScaler.\n",
      "  \"\"\"Entry point for launching an IPython kernel.\n",
      "/anaconda3/lib/python3.6/site-packages/ipykernel_launcher.py:2: DataConversionWarning: Data with input dtype int64, float64 were all converted to float64 by StandardScaler.\n",
      "  \n"
     ]
    }
   ],
   "source": [
    "X_train_scaled = X_scaler.transform(X_train)\n",
    "X_test_scaled = X_scaler.transform(X_test)"
   ]
  },
  {
   "cell_type": "code",
   "execution_count": 300,
   "metadata": {},
   "outputs": [
    {
     "name": "stderr",
     "output_type": "stream",
     "text": [
      "/anaconda3/lib/python3.6/site-packages/h5py/__init__.py:36: FutureWarning: Conversion of the second argument of issubdtype from `float` to `np.floating` is deprecated. In future, it will be treated as `np.float64 == np.dtype(float).type`.\n",
      "  from ._conv import register_converters as _register_converters\n",
      "Using TensorFlow backend.\n"
     ]
    },
    {
     "data": {
      "text/plain": [
       "array([[0., 0., 0., ..., 0., 0., 0.],\n",
       "       [0., 0., 0., ..., 0., 0., 0.],\n",
       "       [0., 0., 0., ..., 0., 0., 0.],\n",
       "       ...,\n",
       "       [0., 0., 0., ..., 0., 0., 0.],\n",
       "       [0., 0., 0., ..., 0., 0., 0.],\n",
       "       [0., 0., 0., ..., 0., 0., 0.]], dtype=float32)"
      ]
     },
     "execution_count": 300,
     "metadata": {},
     "output_type": "execute_result"
    }
   ],
   "source": [
    "from keras.utils import to_categorical\n",
    "\n",
    "# One-hot encoding\n"
   ]
  },
  {
   "cell_type": "code",
   "execution_count": 302,
   "metadata": {},
   "outputs": [],
   "source": [
    "from keras.models import Sequential\n",
    "\n",
    "model = Sequential()\n",
    "\n",
    "from keras.layers import Dense\n",
    "number_inputs = 9\n",
    "number_hidden_nodes = 4\n",
    "model.add(Dense(units=number_hidden_nodes,\n",
    "                activation='relu', input_dim=number_inputs))"
   ]
  },
  {
   "cell_type": "code",
   "execution_count": 304,
   "metadata": {},
   "outputs": [
    {
     "name": "stdout",
     "output_type": "stream",
     "text": [
      "_________________________________________________________________\n",
      "Layer (type)                 Output Shape              Param #   \n",
      "=================================================================\n",
      "dense_1 (Dense)              (None, 4)                 40        \n",
      "_________________________________________________________________\n",
      "dense_2 (Dense)              (None, 2)                 10        \n",
      "_________________________________________________________________\n",
      "dense_3 (Dense)              (None, 2)                 6         \n",
      "=================================================================\n",
      "Total params: 56\n",
      "Trainable params: 56\n",
      "Non-trainable params: 0\n",
      "_________________________________________________________________\n"
     ]
    }
   ],
   "source": [
    "number_classes = 2\n",
    "model.add(Dense(units=number_classes, activation='softmax'))\n",
    "model.summary()"
   ]
  },
  {
   "cell_type": "code",
   "execution_count": 305,
   "metadata": {},
   "outputs": [],
   "source": [
    "model.compile(optimizer='adam',\n",
    "              loss='categorical_crossentropy',\n",
    "              metrics=['accuracy'])"
   ]
  },
  {
   "cell_type": "code",
   "execution_count": 306,
   "metadata": {},
   "outputs": [
    {
     "ename": "ValueError",
     "evalue": "Error when checking target: expected dense_3 to have shape (2,) but got array with shape (220,)",
     "output_type": "error",
     "traceback": [
      "\u001b[0;31m---------------------------------------------------------------------------\u001b[0m",
      "\u001b[0;31mValueError\u001b[0m                                Traceback (most recent call last)",
      "\u001b[0;32m<ipython-input-306-dd7d2aa9975b>\u001b[0m in \u001b[0;36m<module>\u001b[0;34m()\u001b[0m\n\u001b[1;32m      4\u001b[0m     \u001b[0mepochs\u001b[0m\u001b[0;34m=\u001b[0m\u001b[0;36m1000\u001b[0m\u001b[0;34m,\u001b[0m\u001b[0;34m\u001b[0m\u001b[0m\n\u001b[1;32m      5\u001b[0m     \u001b[0mshuffle\u001b[0m\u001b[0;34m=\u001b[0m\u001b[0;32mTrue\u001b[0m\u001b[0;34m,\u001b[0m\u001b[0;34m\u001b[0m\u001b[0m\n\u001b[0;32m----> 6\u001b[0;31m     \u001b[0mverbose\u001b[0m\u001b[0;34m=\u001b[0m\u001b[0;36m2\u001b[0m\u001b[0;34m\u001b[0m\u001b[0m\n\u001b[0m\u001b[1;32m      7\u001b[0m )\n",
      "\u001b[0;32m/anaconda3/lib/python3.6/site-packages/keras/engine/training.py\u001b[0m in \u001b[0;36mfit\u001b[0;34m(self, x, y, batch_size, epochs, verbose, callbacks, validation_split, validation_data, shuffle, class_weight, sample_weight, initial_epoch, steps_per_epoch, validation_steps, **kwargs)\u001b[0m\n\u001b[1;32m    950\u001b[0m             \u001b[0msample_weight\u001b[0m\u001b[0;34m=\u001b[0m\u001b[0msample_weight\u001b[0m\u001b[0;34m,\u001b[0m\u001b[0;34m\u001b[0m\u001b[0m\n\u001b[1;32m    951\u001b[0m             \u001b[0mclass_weight\u001b[0m\u001b[0;34m=\u001b[0m\u001b[0mclass_weight\u001b[0m\u001b[0;34m,\u001b[0m\u001b[0;34m\u001b[0m\u001b[0m\n\u001b[0;32m--> 952\u001b[0;31m             batch_size=batch_size)\n\u001b[0m\u001b[1;32m    953\u001b[0m         \u001b[0;31m# Prepare validation data.\u001b[0m\u001b[0;34m\u001b[0m\u001b[0;34m\u001b[0m\u001b[0m\n\u001b[1;32m    954\u001b[0m         \u001b[0mdo_validation\u001b[0m \u001b[0;34m=\u001b[0m \u001b[0;32mFalse\u001b[0m\u001b[0;34m\u001b[0m\u001b[0m\n",
      "\u001b[0;32m/anaconda3/lib/python3.6/site-packages/keras/engine/training.py\u001b[0m in \u001b[0;36m_standardize_user_data\u001b[0;34m(self, x, y, sample_weight, class_weight, check_array_lengths, batch_size)\u001b[0m\n\u001b[1;32m    787\u001b[0m                 \u001b[0mfeed_output_shapes\u001b[0m\u001b[0;34m,\u001b[0m\u001b[0;34m\u001b[0m\u001b[0m\n\u001b[1;32m    788\u001b[0m                 \u001b[0mcheck_batch_axis\u001b[0m\u001b[0;34m=\u001b[0m\u001b[0;32mFalse\u001b[0m\u001b[0;34m,\u001b[0m  \u001b[0;31m# Don't enforce the batch size.\u001b[0m\u001b[0;34m\u001b[0m\u001b[0m\n\u001b[0;32m--> 789\u001b[0;31m                 exception_prefix='target')\n\u001b[0m\u001b[1;32m    790\u001b[0m \u001b[0;34m\u001b[0m\u001b[0m\n\u001b[1;32m    791\u001b[0m             \u001b[0;31m# Generate sample-wise weight values given the `sample_weight` and\u001b[0m\u001b[0;34m\u001b[0m\u001b[0;34m\u001b[0m\u001b[0m\n",
      "\u001b[0;32m/anaconda3/lib/python3.6/site-packages/keras/engine/training_utils.py\u001b[0m in \u001b[0;36mstandardize_input_data\u001b[0;34m(data, names, shapes, check_batch_axis, exception_prefix)\u001b[0m\n\u001b[1;32m    136\u001b[0m                             \u001b[0;34m': expected '\u001b[0m \u001b[0;34m+\u001b[0m \u001b[0mnames\u001b[0m\u001b[0;34m[\u001b[0m\u001b[0mi\u001b[0m\u001b[0;34m]\u001b[0m \u001b[0;34m+\u001b[0m \u001b[0;34m' to have shape '\u001b[0m \u001b[0;34m+\u001b[0m\u001b[0;34m\u001b[0m\u001b[0m\n\u001b[1;32m    137\u001b[0m                             \u001b[0mstr\u001b[0m\u001b[0;34m(\u001b[0m\u001b[0mshape\u001b[0m\u001b[0;34m)\u001b[0m \u001b[0;34m+\u001b[0m \u001b[0;34m' but got array with shape '\u001b[0m \u001b[0;34m+\u001b[0m\u001b[0;34m\u001b[0m\u001b[0m\n\u001b[0;32m--> 138\u001b[0;31m                             str(data_shape))\n\u001b[0m\u001b[1;32m    139\u001b[0m     \u001b[0;32mreturn\u001b[0m \u001b[0mdata\u001b[0m\u001b[0;34m\u001b[0m\u001b[0m\n\u001b[1;32m    140\u001b[0m \u001b[0;34m\u001b[0m\u001b[0m\n",
      "\u001b[0;31mValueError\u001b[0m: Error when checking target: expected dense_3 to have shape (2,) but got array with shape (220,)"
     ]
    }
   ],
   "source": [
    "model.fit(\n",
    "    X_train_scaled,\n",
    "    y_train_categorical,\n",
    "    epochs=1000,\n",
    "    shuffle=True,\n",
    "    verbose=2\n",
    ")"
   ]
  },
  {
   "cell_type": "markdown",
   "metadata": {},
   "source": [
    "# Model 4 - Tempo"
   ]
  },
  {
   "cell_type": "code",
   "execution_count": 247,
   "metadata": {},
   "outputs": [
    {
     "data": {
      "text/plain": [
       "id                  3332\n",
       "track               5341\n",
       "acousticness        5341\n",
       "danceability        5341\n",
       "duration_ms         5341\n",
       "energy              5341\n",
       "instrumentalness    5341\n",
       "key                 5341\n",
       "liveness            5341\n",
       "loudness            5341\n",
       "mode                5341\n",
       "speechiness         5341\n",
       "tempo               5341\n",
       "time_signature      3004\n",
       "valence             5341\n",
       "track_href          3193\n",
       "dtype: int64"
      ]
     },
     "execution_count": 247,
     "metadata": {},
     "output_type": "execute_result"
    }
   ],
   "source": [
    "df.count()"
   ]
  },
  {
   "cell_type": "code",
   "execution_count": 294,
   "metadata": {},
   "outputs": [
    {
     "name": "stdout",
     "output_type": "stream",
     "text": [
      "(5341, 9) (5341, 1)\n"
     ]
    }
   ],
   "source": [
    "X = df[[\"acousticness\", \"danceability\", \"duration_ms\", \"energy\", \"instrumentalness\", \"liveness\", \"loudness\", \"speechiness\",\"valence\"]]\n",
    "y = df[\"tempo\"].values.reshape(-1, 1)\n",
    "print(X.shape, y.shape) "
   ]
  },
  {
   "cell_type": "code",
   "execution_count": 295,
   "metadata": {},
   "outputs": [],
   "source": [
    "X_train, X_test, y_train, y_test = train_test_split(X, y, random_state=42)"
   ]
  },
  {
   "cell_type": "code",
   "execution_count": 296,
   "metadata": {},
   "outputs": [],
   "source": [
    "model = LinearRegression()"
   ]
  },
  {
   "cell_type": "code",
   "execution_count": 297,
   "metadata": {},
   "outputs": [
    {
     "name": "stdout",
     "output_type": "stream",
     "text": [
      " Tempo Training Score: 0.06582886509549501\n",
      " Tempo Score: 0.05414996362782887\n"
     ]
    }
   ],
   "source": [
    "model.fit(X_train, y_train)\n",
    "training_score = model.score(X_train, y_train)\n",
    "testing_score = model.score(X_test, y_test)\n",
    "\n",
    "print(f\" Tempo Training Score: {training_score}\")\n",
    "print(f\" Tempo Score: {testing_score}\")"
   ]
  },
  {
   "cell_type": "code",
   "execution_count": 284,
   "metadata": {},
   "outputs": [
    {
     "data": {
      "text/plain": [
       "id                   object\n",
       "track                object\n",
       "acousticness        float64\n",
       "danceability        float64\n",
       "duration_ms           int64\n",
       "energy              float64\n",
       "instrumentalness    float64\n",
       "key                  object\n",
       "liveness            float64\n",
       "loudness            float64\n",
       "mode                 object\n",
       "speechiness         float64\n",
       "tempo               float64\n",
       "time_signature      float64\n",
       "valence             float64\n",
       "track_href           object\n",
       "dtype: object"
      ]
     },
     "execution_count": 284,
     "metadata": {},
     "output_type": "execute_result"
    }
   ],
   "source": [
    "df.dtypes"
   ]
  },
  {
   "cell_type": "code",
   "execution_count": 253,
   "metadata": {},
   "outputs": [
    {
     "data": {
      "text/plain": [
       "Text(0.5,1,'Residual Plot')"
      ]
     },
     "execution_count": 253,
     "metadata": {},
     "output_type": "execute_result"
    },
    {
     "data": {
      "image/png": "[encoded data removed]",
      "text/plain": [
       "<matplotlib.figure.Figure at 0x1a2286b080>"
      ]
     },
     "metadata": {},
     "output_type": "display_data"
    }
   ],
   "source": [
    "plt.scatter(model.predict(X_train), model.predict(X_train) - y_train, c=\"blue\", label=\"Training Data\")\n",
    "plt.scatter(model.predict(X_test), model.predict(X_test) - y_test, c=\"orange\", label=\"Testing Data\")\n",
    "plt.legend()\n",
    "plt.hlines(y=0, xmin=y.min(), xmax=y.max())\n",
    "plt.title(\"Residual Plot\")"
   ]
  },
  {
   "cell_type": "markdown",
   "metadata": {},
   "source": [
    "# Model 5 - Acousticness"
   ]
  },
  {
   "cell_type": "code",
   "execution_count": 258,
   "metadata": {},
   "outputs": [
    {
     "data": {
      "text/plain": [
       "id                  3332\n",
       "track               5341\n",
       "acousticness        5341\n",
       "danceability        5341\n",
       "duration_ms         5341\n",
       "energy              5341\n",
       "instrumentalness    5341\n",
       "key                 5341\n",
       "liveness            5341\n",
       "loudness            5341\n",
       "mode                5341\n",
       "speechiness         5341\n",
       "tempo               5341\n",
       "time_signature      3004\n",
       "valence             5341\n",
       "track_href          3193\n",
       "dtype: int64"
      ]
     },
     "execution_count": 258,
     "metadata": {},
     "output_type": "execute_result"
    }
   ],
   "source": [
    "#df['acousticness']\n",
    "df.count()"
   ]
  },
  {
   "cell_type": "code",
   "execution_count": 277,
   "metadata": {},
   "outputs": [
    {
     "name": "stdout",
     "output_type": "stream",
     "text": [
      "(5341, 3) (5341, 1)\n"
     ]
    }
   ],
   "source": [
    "X = df[[\"danceability\", \"energy\", \"liveness\"]]\n",
    "y = df[\"acousticness\"].values.reshape(-1, 1)\n",
    "print(X.shape, y.shape) "
   ]
  },
  {
   "cell_type": "code",
   "execution_count": 278,
   "metadata": {},
   "outputs": [],
   "source": [
    "X_train, X_test, y_train, y_test = train_test_split(X, y, random_state=42)\n",
    "model = LinearRegression()"
   ]
  },
  {
   "cell_type": "code",
   "execution_count": 279,
   "metadata": {},
   "outputs": [
    {
     "name": "stdout",
     "output_type": "stream",
     "text": [
      " Tempo Training Score: 0.3716786795661322\n",
      " Tempo Score: 0.37482480068195234\n"
     ]
    }
   ],
   "source": [
    "model.fit(X_train, y_train)\n",
    "training_score = model.score(X_train, y_train)\n",
    "testing_score = model.score(X_test, y_test)\n",
    "\n",
    "print(f\" Tempo Training Score: {training_score}\")\n",
    "print(f\" Tempo Score: {testing_score}\")\n",
    "# Score hardly changes remvoing one feature (9) down to (3)"
   ]
  },
  {
   "cell_type": "code",
   "execution_count": null,
   "metadata": {},
   "outputs": [],
   "source": []
  }
 ],
 "metadata": {
  "kernelspec": {
   "display_name": "Python 3",
   "language": "python",
   "name": "python3"
  },
  "language_info": {
   "codemirror_mode": {
    "name": "ipython",
    "version": 3
   },
   "file_extension": ".py",
   "mimetype": "text/x-python",
   "name": "python",
   "nbconvert_exporter": "python",
   "pygments_lexer": "ipython3",
   "version": "3.6.4"
  }
 },
 "nbformat": 4,
 "nbformat_minor": 2
}
